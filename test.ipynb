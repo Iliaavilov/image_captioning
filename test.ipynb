{
 "cells": [
  {
   "cell_type": "code",
   "execution_count": 1,
   "metadata": {},
   "outputs": [],
   "source": [
    "import torch\n",
    "import torchvision\n",
    "from torch import nn\n",
    "import json\n",
    "from utils import *\n",
    "import model\n",
    "import dataset\n",
    "\n",
    "import imageio\n",
    "import scipy\n",
    "from imageio import imread\n",
    "import os\n",
    "import torchvision.transforms as transforms\n",
    "from torch.nn.utils.rnn import pack_padded_sequence\n",
    "import numpy as np\n",
    "import pandas as pd\n",
    "import random\n",
    "from tqdm import tqdm\n",
    "import torch\n",
    "from imageio import imread\n",
    "from PIL import Image\n",
    "import PIL\n",
    "import pickle"
   ]
  },
  {
   "cell_type": "code",
   "execution_count": 2,
   "metadata": {},
   "outputs": [],
   "source": [
    "def set_seed(seed: int = 666) -> None:\n",
    "    np.random.seed(seed)\n",
    "    random.seed(seed)\n",
    "    os.environ['PYTHONHASHSEED'] = str(seed)\n",
    "    os.environ['CUBLAS_WORKSPACE_CONFIG'] = ':4096:8'\n",
    "    torch.backends.cudnn.benchmark = False\n",
    "    torch.backends.cudnn.deterministic = True\n",
    "    torch.set_deterministic(True)\n",
    "    torch.manual_seed(seed)\n",
    "    torch.cuda.manual_seed(seed)\n",
    "    torch.cuda.manual_seed_all(seed)\n",
    "set_seed()"
   ]
  },
  {
   "cell_type": "code",
   "execution_count": 3,
   "metadata": {},
   "outputs": [],
   "source": [
    "with open('images/WORDMAP_COCO.json') as f:\n",
    "    wordmap = json.load(f)"
   ]
  },
  {
   "cell_type": "code",
   "execution_count": 4,
   "metadata": {},
   "outputs": [],
   "source": [
    "checkpoint = torch.load('checkpoint_17_3000.pth.tar')\n",
    "start_epoch = checkpoint['epoch']\n",
    "dec = checkpoint['decoder']\n",
    "optimizer_decoder = checkpoint['decoder_optimizer']\n",
    "enc = checkpoint['encoder']\n",
    "optimizer_encoder = checkpoint['encoder_optimizer']"
   ]
  },
  {
   "cell_type": "code",
   "execution_count": 53,
   "metadata": {},
   "outputs": [],
   "source": [
    "img = imread(\"ggg.png\")\n",
    "if len(img.shape) == 2:\n",
    "    img = img[:, :, np.newaxis]\n",
    "    img = np.concatenate([img, img, img], axis=2)\n",
    "img = Image.fromarray(img)\n",
    "img = np.array(img.resize((256, 256), PIL.Image.BICUBIC))\n",
    "img = img.transpose(2, 0, 1)\n",
    "assert img.shape == (3, 256, 256)\n",
    "assert np.max(img) <= 255"
   ]
  },
  {
   "cell_type": "code",
   "execution_count": 54,
   "metadata": {},
   "outputs": [
    {
     "data": {
      "text/plain": [
       "(3, 256, 256)"
      ]
     },
     "execution_count": 54,
     "metadata": {},
     "output_type": "execute_result"
    }
   ],
   "source": [
    "img.shape"
   ]
  },
  {
   "cell_type": "code",
   "execution_count": 55,
   "metadata": {},
   "outputs": [],
   "source": [
    "img = torch.FloatTensor(img/255.).unsqueeze(0)"
   ]
  },
  {
   "cell_type": "code",
   "execution_count": 56,
   "metadata": {
    "scrolled": true
   },
   "outputs": [],
   "source": [
    "normalize = transforms.Normalize(mean=[0.485, 0.456, 0.406],\n",
    "                                 std=[0.229, 0.224, 0.225])"
   ]
  },
  {
   "cell_type": "code",
   "execution_count": 57,
   "metadata": {},
   "outputs": [],
   "source": [
    "transform = transforms.Compose([normalize])"
   ]
  },
  {
   "cell_type": "code",
   "execution_count": 58,
   "metadata": {},
   "outputs": [],
   "source": [
    "device = torch.device('cuda' if torch.cuda.is_available() else 'cpu')\n",
    "img = transform(img).to(device)"
   ]
  },
  {
   "cell_type": "code",
   "execution_count": 59,
   "metadata": {},
   "outputs": [],
   "source": [
    "res = dict((v,k) for k,v in wordmap.items())"
   ]
  },
  {
   "cell_type": "code",
   "execution_count": 60,
   "metadata": {
    "scrolled": true
   },
   "outputs": [
    {
     "name": "stdout",
     "output_type": "stream",
     "text": [
      "<start>\n",
      "a\n",
      "large\n",
      "amount\n",
      "of\n",
      "various\n",
      "types\n",
      "of\n",
      "vegetables\n"
     ]
    }
   ],
   "source": [
    "with torch.no_grad():\n",
    "    enc = enc.eval()\n",
    "    dec = dec.eval()\n",
    "    predictions = []\n",
    "    encoder_out = enc(img)\n",
    "    encoder_out = encoder_out.view(1, -1, 2048)\n",
    "    h = dec.h_init(encoder_out.mean(dim = 1)) # (batch_size, decoder_hidden_size)\n",
    "    c = dec.c_init(encoder_out.mean(dim = 1)) # (batch_size, decoder_hidden_size)\n",
    "    last_word = torch.tensor(wordmap['<start>']).unsqueeze(0).unsqueeze(0).to(device)\n",
    "    while last_word != wordmap['<end>']:\n",
    "\n",
    "        print(res[int(last_word)])\n",
    "        # Выбираем эмбеддинг слова, стоящего на позиции last_word\n",
    "        decoder_out = dec.embedding(last_word)[:, 0]\n",
    "\n",
    "        # Механизм внимания\n",
    "        encoder_weighted = dec.Attention(batch_size = 1,\n",
    "                                          encoder_out = encoder_out,\n",
    "                                          decoder_out = decoder_out)\n",
    "\n",
    "        # Конкатенируем информцию из механизма внимания и информацию о предыдущем слове\n",
    "        decoder_in = torch.cat((encoder_weighted, decoder_out), 1)\n",
    "\n",
    "        # Предсказываем вероятности появления слов на текущей позиции\n",
    "        h, c = dec.LSTMCell(decoder_in, (h, c)) # (batch_size, decoder_hidden_size)\n",
    "        predictions_word = dec.linear(h) # (batch_size, decoder_hidden_size)\n",
    "        predictions.append(predictions_word)\n",
    "        maxword = torch.argmax(predictions_word)\n",
    "        last_word = maxword.unsqueeze(0).unsqueeze(0).to(device)"
   ]
  },
  {
   "cell_type": "code",
   "execution_count": null,
   "metadata": {},
   "outputs": [],
   "source": [
    "tt = open('glove.6B.50d.txt', 'r', encoding='utf-8').read()\n",
    "tt = tt.split('\\n')"
   ]
  },
  {
   "cell_type": "code",
   "execution_count": null,
   "metadata": {},
   "outputs": [],
   "source": [
    "words = [pp.split(' ')[0] for pp in tt]\n",
    "encodings = [pp.split(' ')[1:] for pp in tt]"
   ]
  },
  {
   "cell_type": "code",
   "execution_count": null,
   "metadata": {},
   "outputs": [],
   "source": [
    "new_wordmap = {word: enc for word, enc in zip(words, encodings)}"
   ]
  },
  {
   "cell_type": "code",
   "execution_count": null,
   "metadata": {},
   "outputs": [],
   "source": [
    "encodings = []\n",
    "for word in wordmap:\n",
    "    try:\n",
    "        encodings.append(new_wordmap[word])\n",
    "    except:\n",
    "        print(word)"
   ]
  },
  {
   "cell_type": "code",
   "execution_count": null,
   "metadata": {},
   "outputs": [],
   "source": [
    "words"
   ]
  },
  {
   "cell_type": "code",
   "execution_count": null,
   "metadata": {},
   "outputs": [],
   "source": [
    "encodings"
   ]
  },
  {
   "cell_type": "markdown",
   "metadata": {},
   "source": [
    "Для новых слов тупо зарандобмить"
   ]
  }
 ],
 "metadata": {
  "kernelspec": {
   "display_name": "Python 3",
   "language": "python",
   "name": "python3"
  },
  "language_info": {
   "codemirror_mode": {
    "name": "ipython",
    "version": 3
   },
   "file_extension": ".py",
   "mimetype": "text/x-python",
   "name": "python",
   "nbconvert_exporter": "python",
   "pygments_lexer": "ipython3",
   "version": "3.8.3"
  },
  "latex_envs": {
   "LaTeX_envs_menu_present": true,
   "autoclose": false,
   "autocomplete": true,
   "bibliofile": "biblio.bib",
   "cite_by": "apalike",
   "current_citInitial": 1,
   "eqLabelWithNumbers": true,
   "eqNumInitial": 1,
   "hotkeys": {
    "equation": "Ctrl-E",
    "itemize": "Ctrl-I"
   },
   "labels_anchors": false,
   "latex_user_defs": false,
   "report_style_numbering": false,
   "user_envs_cfg": false
  }
 },
 "nbformat": 4,
 "nbformat_minor": 4
}
