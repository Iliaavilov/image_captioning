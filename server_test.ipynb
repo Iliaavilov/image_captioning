{
 "cells": [
  {
   "cell_type": "code",
   "execution_count": 1,
   "metadata": {},
   "outputs": [],
   "source": [
    "import requests\n",
    "import json\n",
    "import numpy as np\n",
    "import cv2"
   ]
  },
  {
   "cell_type": "code",
   "execution_count": 17,
   "metadata": {},
   "outputs": [],
   "source": [
    "response = requests.post('http://94.19.209.176:8888//get_image_caption', \n",
    "                        files = {'image': open('cowsignals_2560px.jpg', 'rb')})"
   ]
  },
  {
   "cell_type": "code",
   "execution_count": 19,
   "metadata": {
    "scrolled": true
   },
   "outputs": [
    {
     "data": {
      "text/plain": [
       "'a group of cows are grazing in a field'"
      ]
     },
     "execution_count": 19,
     "metadata": {},
     "output_type": "execute_result"
    }
   ],
   "source": [
    "json.loads(response.text)['captions']"
   ]
  },
  {
   "cell_type": "code",
   "execution_count": 20,
   "metadata": {},
   "outputs": [
    {
     "data": {
      "text/plain": [
       "dict_keys(['captions', 'embedded_words', 'encoders_out'])"
      ]
     },
     "execution_count": 20,
     "metadata": {},
     "output_type": "execute_result"
    }
   ],
   "source": [
    "json.loads(response.text).keys()"
   ]
  },
  {
   "cell_type": "code",
   "execution_count": null,
   "metadata": {},
   "outputs": [],
   "source": [
    "np.array(json.loads(response.text)['encoders_out']).shape"
   ]
  },
  {
   "cell_type": "code",
   "execution_count": 22,
   "metadata": {},
   "outputs": [],
   "source": [
    "response = requests.post('http://94.19.209.176:8888//get_video_captions', \n",
    "                        files = {'video': open('VIRAT_S_000102.mp4', 'rb')})"
   ]
  },
  {
   "cell_type": "code",
   "execution_count": 24,
   "metadata": {},
   "outputs": [],
   "source": [
    "loaded = json.loads(response.text)"
   ]
  },
  {
   "cell_type": "code",
   "execution_count": 31,
   "metadata": {
    "scrolled": true
   },
   "outputs": [
    {
     "data": {
      "text/plain": [
       "['a television that is sitting on a sidewalk',\n",
       " 'a man is sitting on a bench in the street',\n",
       " 'a person walking down a sidewalk next to a fire hydrant',\n",
       " 'a group of people walking down a sidewalk next to a fire hydrant',\n",
       " 'a man is sitting on a bench in the street',\n",
       " 'a man is walking down a sidewalk next to a fire hydrant',\n",
       " 'a television that is sitting on a sidewalk',\n",
       " 'a man is on a skateboard in the street',\n",
       " 'a man is sitting on a bench in the street',\n",
       " 'a man is sitting on a bench in the street',\n",
       " 'a man is sitting on a bench in the street',\n",
       " 'a man on a bike sitting on a bench in the city',\n",
       " 'a man is sitting on a bench in the street',\n",
       " 'a man is sitting on a bench in the street',\n",
       " 'a man is sitting on a bench in the street',\n",
       " 'a man is sitting on a bench in the street',\n",
       " 'a man is sitting on a bench in the street',\n",
       " 'a television that is sitting on a sidewalk',\n",
       " 'a man is sitting on a bench in the street',\n",
       " 'a person is sitting on a bench in the street',\n",
       " 'a man is sitting on a bench in the street',\n",
       " 'a man is on a skateboard in the street',\n",
       " 'a person sitting on a bench in the street',\n",
       " 'a man is sitting on a bench in the street',\n",
       " 'a man is sitting on a bench in the street',\n",
       " 'a man is sitting on a bench in the street',\n",
       " 'a man is sitting on a bench in the street',\n",
       " 'a man is sitting on a bench in the street',\n",
       " 'a television that is sitting on a sidewalk',\n",
       " 'a man is sitting on a bench in the street',\n",
       " 'a person is sitting on a bench in the street',\n",
       " 'a man riding a skateboard down a sidewalk',\n",
       " 'a television is sitting on a sidewalk next to a building',\n",
       " 'a person is sitting on a bench in the street',\n",
       " 'a person walking down a sidewalk next to a fire hydrant',\n",
       " 'a man is sitting on a bench in the street',\n",
       " 'a man is sitting on a bench in the street',\n",
       " 'a man is sitting on a bench in the street',\n",
       " 'a person riding a skateboard down a sidewalk',\n",
       " 'a television that is sitting on a sidewalk',\n",
       " 'a person sitting on a bench in front of a building',\n",
       " 'a man is sitting on a bench in the street',\n",
       " 'a television is sitting on a sidewalk in the middle of a street',\n",
       " 'a person walking on a sidewalk next to a fire hydrant',\n",
       " 'a small bird sitting on a ledge in a room',\n",
       " 'a television that is on a ledge in the grass',\n",
       " 'a television that is on a ledge in the park',\n",
       " 'a television that is sitting on a sidewalk',\n",
       " 'a television that is on a sidewalk in the street',\n",
       " 'a person on a bench in a city street',\n",
       " 'a man is skateboarding on a sidewalk in the city',\n",
       " 'a man is riding a skateboard down a sidewalk',\n",
       " 'a black and white photo of a car and a dog on a sidewalk',\n",
       " 'a dog is sitting on a bench outside a building',\n",
       " 'a small car is parked next to a building',\n",
       " 'a black and white photo of a car and a dog on a sidewalk',\n",
       " 'a car is parked next to a parking meter',\n",
       " 'a man is walking down a sidewalk next to a fire hydrant',\n",
       " 'a television that is sitting on a ledge',\n",
       " 'a television that is sitting on a ledge',\n",
       " 'a television that is sitting on a ledge',\n",
       " 'a television is sitting on a sidewalk in the middle of a street',\n",
       " 'a television that is sitting on a sidewalk',\n",
       " 'a bench on a sidewalk next to a street',\n",
       " 'a person walking down a sidewalk next to a fire hydrant',\n",
       " 'a person walking down a sidewalk next to a fire hydrant',\n",
       " 'a television on a wooden bench in a park',\n",
       " 'a television that is on a ledge in the park',\n",
       " 'a television that is sitting on a ledge',\n",
       " 'a television that is on a ledge in the park',\n",
       " 'a television that is sitting on a ledge',\n",
       " 'a television is on a sidewalk next to a sidewalk',\n",
       " 'a television that is sitting on a sidewalk',\n",
       " 'a television is sitting on a sidewalk in the middle of a sidewalk',\n",
       " 'a man is on a skateboard in the street',\n",
       " 'a cat sitting on a bench in the middle of a street',\n",
       " 'a man is sitting on a bench in the park',\n",
       " 'a television that is sitting on a ledge',\n",
       " 'a television that is sitting on a sidewalk',\n",
       " 'a television that is sitting on a ledge',\n",
       " 'a television that is sitting on a ledge',\n",
       " 'a television that is sitting on a sidewalk',\n",
       " 'a television that is sitting on a ledge',\n",
       " 'a television that is sitting on a ledge',\n",
       " 'a television that is sitting on a ledge',\n",
       " 'a television that is sitting on a sidewalk',\n",
       " 'a television that is sitting on a sidewalk',\n",
       " 'a person sitting on a bench in the park',\n",
       " 'a person on a bench in a city street',\n",
       " 'a television that is sitting on a ledge',\n",
       " 'a television that is sitting on a ledge',\n",
       " 'a television that is sitting on a ledge',\n",
       " 'a television that is sitting on a ledge',\n",
       " 'a television that is sitting on a ledge',\n",
       " 'a television that is sitting on a ledge',\n",
       " 'a television that is sitting on a ledge',\n",
       " 'a television that is sitting on a sidewalk',\n",
       " 'a television that is sitting on a ledge',\n",
       " 'a television that is sitting on a ledge',\n",
       " 'a man is sitting on a bench in the park',\n",
       " 'a television is sitting on a ledge in the city',\n",
       " 'a man is sitting on a bench in the park']"
      ]
     },
     "execution_count": 31,
     "metadata": {},
     "output_type": "execute_result"
    }
   ],
   "source": [
    "loaded['captions']"
   ]
  },
  {
   "cell_type": "code",
   "execution_count": 28,
   "metadata": {
    "scrolled": true
   },
   "outputs": [
    {
     "data": {
      "text/plain": [
       "9"
      ]
     },
     "execution_count": 28,
     "metadata": {},
     "output_type": "execute_result"
    }
   ],
   "source": [
    "len(loaded['embedded_words'][0])"
   ]
  }
 ],
 "metadata": {
  "kernelspec": {
   "display_name": "Python 3",
   "language": "python",
   "name": "python3"
  },
  "language_info": {
   "codemirror_mode": {
    "name": "ipython",
    "version": 3
   },
   "file_extension": ".py",
   "mimetype": "text/x-python",
   "name": "python",
   "nbconvert_exporter": "python",
   "pygments_lexer": "ipython3",
   "version": "3.8.3"
  },
  "latex_envs": {
   "LaTeX_envs_menu_present": true,
   "autoclose": false,
   "autocomplete": true,
   "bibliofile": "biblio.bib",
   "cite_by": "apalike",
   "current_citInitial": 1,
   "eqLabelWithNumbers": true,
   "eqNumInitial": 1,
   "hotkeys": {
    "equation": "Ctrl-E",
    "itemize": "Ctrl-I"
   },
   "labels_anchors": false,
   "latex_user_defs": false,
   "report_style_numbering": false,
   "user_envs_cfg": false
  }
 },
 "nbformat": 4,
 "nbformat_minor": 4
}
